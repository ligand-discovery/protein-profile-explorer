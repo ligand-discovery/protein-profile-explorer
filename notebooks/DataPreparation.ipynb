{
 "cells": [
  {
   "cell_type": "code",
   "execution_count": 1,
   "metadata": {},
   "outputs": [
    {
     "data": {
      "text/plain": [
       "['../data/pid2name_primary.joblib']"
      ]
     },
     "execution_count": 1,
     "metadata": {},
     "output_type": "execute_result"
    }
   ],
   "source": [
    "import joblib\n",
    "import os\n",
    "import csv\n",
    "import pandas as pd\n",
    "import collections\n",
    "\n",
    "root = os.path.dirname(\".\")\n",
    "\n",
    "def load_pid2name_primary():\n",
    "    pid2name = {}\n",
    "    with open(os.path.join(root, \"../data/pid2name_primary.tsv\"), \"r\") as f:\n",
    "        reader = csv.reader(f, delimiter=\"\\t\")\n",
    "        for r in reader:\n",
    "            pid2name[r[0]] = r[1]\n",
    "    return pid2name\n",
    "\n",
    "def load_human_proteome():\n",
    "    human_proteome = pd.read_csv(os.path.join(root, \"../data/human_proteome_with_gene_names.tab\"), sep=\"\\t\")\n",
    "    return human_proteome\n",
    "\n",
    "human_proteome = load_human_proteome()\n",
    "pid2name_primary = load_pid2name_primary()\n",
    "for r in human_proteome[[\"Entry\", \"Gene names  (primary )\"]].values:\n",
    "    if r[0] in pid2name_primary:\n",
    "        continue\n",
    "    if str(r[1]) == \"nan\":\n",
    "        pid2name_primary[r[0]] = r[0]\n",
    "    else:\n",
    "        pid2name_primary[r[0]] = r[1]\n",
    "\n",
    "joblib.dump(pid2name_primary, \"../data/pid2name_primary.joblib\")"
   ]
  },
  {
   "cell_type": "code",
   "execution_count": 2,
   "metadata": {},
   "outputs": [],
   "source": [
    "def load_screening_hits():\n",
    "    db = pd.read_csv(os.path.join(root, \"../data/screening_hits.tsv\"), sep=\"\\t\")\n",
    "    return db\n",
    "\n",
    "db = load_screening_hits()"
   ]
  },
  {
   "cell_type": "code",
   "execution_count": 3,
   "metadata": {},
   "outputs": [],
   "source": [
    "any2pid = {}\n",
    "for k,v in pid2name_primary.items():\n",
    "    any2pid[v] = k\n",
    "    any2pid[k] = k    "
   ]
  },
  {
   "cell_type": "code",
   "execution_count": 4,
   "metadata": {},
   "outputs": [],
   "source": [
    "pid2fid = collections.defaultdict(list)\n",
    "fid2pid = collections.defaultdict(list)\n",
    "for r in db[[\"Accession\", \"FragID\"]].values:\n",
    "    pid2fid[r[0]] += [r[1]]\n",
    "    fid2pid[r[1]] += [r[0]]"
   ]
  },
  {
   "cell_type": "code",
   "execution_count": 5,
   "metadata": {},
   "outputs": [],
   "source": [
    "with open(\"../data/example_input.csv\", \"w\") as f:\n",
    "    writer = csv.writer(f)\n",
    "    for pid in fid2pid[\"C391\"]:\n",
    "        writer.writerow([pid])"
   ]
  },
  {
   "cell_type": "code",
   "execution_count": 6,
   "metadata": {},
   "outputs": [],
   "source": [
    "def load_hek_proteome():\n",
    "    hek_proteome = []\n",
    "    with open(os.path.join(root, \"../data/hek293t_core.tsv\"), \"r\") as f:\n",
    "        reader = csv.reader(f)\n",
    "        for r in reader:\n",
    "            hek_proteome += [r[0]]\n",
    "    hek_proteome = set(hek_proteome)\n",
    "    return hek_proteome\n",
    "\n",
    "df = load_hek_proteome()"
   ]
  }
 ],
 "metadata": {
  "kernelspec": {
   "display_name": "Python 3.8.15 ('bdapp')",
   "language": "python",
   "name": "python3"
  },
  "language_info": {
   "codemirror_mode": {
    "name": "ipython",
    "version": 3
   },
   "file_extension": ".py",
   "mimetype": "text/x-python",
   "name": "python",
   "nbconvert_exporter": "python",
   "pygments_lexer": "ipython3",
   "version": "3.10.10"
  },
  "orig_nbformat": 4,
  "vscode": {
   "interpreter": {
    "hash": "7cf2342086eb09931e5caa0b5a24920b0a692a3eed53585d36535a73cf2eca05"
   }
  }
 },
 "nbformat": 4,
 "nbformat_minor": 2
}
